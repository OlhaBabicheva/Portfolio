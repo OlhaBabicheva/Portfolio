{
 "cells": [
  {
   "cell_type": "code",
   "execution_count": 1,
   "id": "8fe6e74d",
   "metadata": {
    "_cell_guid": "b1076dfc-b9ad-4769-8c92-a6c4dae69d19",
    "_uuid": "8f2839f25d086af736a60e9eeb907d3b93b6e0e5",
    "execution": {
     "iopub.execute_input": "2022-05-07T19:36:52.797624Z",
     "iopub.status.busy": "2022-05-07T19:36:52.797245Z",
     "iopub.status.idle": "2022-05-07T19:36:57.800591Z",
     "shell.execute_reply": "2022-05-07T19:36:57.799857Z"
    },
    "papermill": {
     "duration": 5.026521,
     "end_time": "2022-05-07T19:36:57.802815",
     "exception": false,
     "start_time": "2022-05-07T19:36:52.776294",
     "status": "completed"
    },
    "tags": []
   },
   "outputs": [],
   "source": [
    "import matplotlib.pyplot as plt\n",
    "import numpy as np\n",
    "import tensorflow as tf\n",
    "from tensorflow import keras\n",
    "from sklearn.model_selection import train_test_split"
   ]
  },
  {
   "cell_type": "code",
   "execution_count": 2,
   "id": "8245e870",
   "metadata": {
    "execution": {
     "iopub.execute_input": "2022-05-07T19:36:57.839561Z",
     "iopub.status.busy": "2022-05-07T19:36:57.839316Z",
     "iopub.status.idle": "2022-05-07T19:36:59.282388Z",
     "shell.execute_reply": "2022-05-07T19:36:59.281598Z"
    },
    "papermill": {
     "duration": 1.463294,
     "end_time": "2022-05-07T19:36:59.284570",
     "exception": false,
     "start_time": "2022-05-07T19:36:57.821276",
     "status": "completed"
    },
    "tags": []
   },
   "outputs": [
    {
     "name": "stdout",
     "output_type": "stream",
     "text": [
      "Downloading data from https://storage.googleapis.com/tensorflow/tf-keras-datasets/mnist.npz\n",
      "11493376/11490434 [==============================] - 0s 0us/step\n",
      "11501568/11490434 [==============================] - 0s 0us/step\n"
     ]
    }
   ],
   "source": [
    "mnist = tf.keras.datasets.mnist\n",
    "(train_images, train_labels), (test_images, test_labels) = mnist.load_data()\n",
    "\n",
    "train_images = (np.expand_dims(train_images, axis=-1) / 255).astype(np.float32)\n",
    "train_labels = tf.keras.utils.to_categorical(\n",
    "    train_labels, num_classes=10, dtype=np.int8)\n",
    "\n",
    "test_images = (np.expand_dims(test_images, axis=-1) / 255).astype(np.float32)\n",
    "test_labels = (test_labels).astype(np.int8)"
   ]
  },
  {
   "cell_type": "code",
   "execution_count": 3,
   "id": "e963ae5e",
   "metadata": {
    "execution": {
     "iopub.execute_input": "2022-05-07T19:36:59.322927Z",
     "iopub.status.busy": "2022-05-07T19:36:59.322291Z",
     "iopub.status.idle": "2022-05-07T19:37:00.224723Z",
     "shell.execute_reply": "2022-05-07T19:37:00.223976Z"
    },
    "papermill": {
     "duration": 0.923926,
     "end_time": "2022-05-07T19:37:00.226880",
     "exception": false,
     "start_time": "2022-05-07T19:36:59.302954",
     "status": "completed"
    },
    "tags": []
   },
   "outputs": [],
   "source": [
    "train_images, val_images, train_labels, val_labels = train_test_split(\n",
    "    train_images, \n",
    "    train_labels, \n",
    "    test_size=0.1, \n",
    "    random_state=42, \n",
    "    stratify=train_labels,\n",
    ")"
   ]
  },
  {
   "cell_type": "code",
   "execution_count": 4,
   "id": "ddabf8b0",
   "metadata": {
    "execution": {
     "iopub.execute_input": "2022-05-07T19:37:00.263143Z",
     "iopub.status.busy": "2022-05-07T19:37:00.262895Z",
     "iopub.status.idle": "2022-05-07T19:37:00.328182Z",
     "shell.execute_reply": "2022-05-07T19:37:00.327432Z"
    },
    "papermill": {
     "duration": 0.08581,
     "end_time": "2022-05-07T19:37:00.330226",
     "exception": false,
     "start_time": "2022-05-07T19:37:00.244416",
     "status": "completed"
    },
    "tags": []
   },
   "outputs": [],
   "source": [
    "datagen = tf.keras.preprocessing.image.ImageDataGenerator(  \n",
    "    rotation_range=10,  \n",
    "    zoom_range=0.2, \n",
    "    width_shift_range=0.2, \n",
    "    height_shift_range=0.2,\n",
    ")\n",
    "\n",
    "datagen.fit(train_images)"
   ]
  },
  {
   "cell_type": "markdown",
   "id": "c3c93609",
   "metadata": {
    "papermill": {
     "duration": 0.017592,
     "end_time": "2022-05-07T19:37:00.365843",
     "exception": false,
     "start_time": "2022-05-07T19:37:00.348251",
     "status": "completed"
    },
    "tags": []
   },
   "source": [
    "# AlderNet"
   ]
  },
  {
   "cell_type": "code",
   "execution_count": 5,
   "id": "39deea8a",
   "metadata": {
    "execution": {
     "iopub.execute_input": "2022-05-07T19:37:00.404905Z",
     "iopub.status.busy": "2022-05-07T19:37:00.404680Z",
     "iopub.status.idle": "2022-05-07T19:37:00.415533Z",
     "shell.execute_reply": "2022-05-07T19:37:00.414878Z"
    },
    "papermill": {
     "duration": 0.034101,
     "end_time": "2022-05-07T19:37:00.417241",
     "exception": false,
     "start_time": "2022-05-07T19:37:00.383140",
     "status": "completed"
    },
    "tags": []
   },
   "outputs": [],
   "source": [
    "class RootLayer(tf.keras.layers.Layer):\n",
    "    def __init__(self, filters, gaussian_noise_ratio):\n",
    "        super().__init__()\n",
    "        self.conv7x7_2s = keras.layers.Conv2D(filters, 7, strides = 2, padding = 'same')\n",
    "        self.conv3x3 = keras.layers.Conv2D(filters, 3, padding = 'same')\n",
    "        self.conv3x3_2s = keras.layers.Conv2D(filters, 3, strides = 2, padding = 'same')\n",
    "        self.conv5x5_2s = keras.layers.Conv2D(filters, 5, strides = 2, padding = 'same')\n",
    "        self.conv1x1 = keras.layers.Conv2D(filters, 1, padding = 'same')\n",
    "        \n",
    "        self.act_relu = keras.layers.Activation(tf.nn.relu)\n",
    "        self.batchnorm = keras.layers.BatchNormalization()\n",
    "        self.gnoise = keras.layers.GaussianNoise(gaussian_noise_ratio)\n",
    "        \n",
    "\n",
    "    def call(self, inputs):\n",
    "        root1 = self.conv7x7_2s(inputs)\n",
    "        root1 = self.gnoise(root1)\n",
    "        root1 = self.act_relu(root1)\n",
    "        root1 = self.batchnorm(root1)\n",
    "        \n",
    "        root2 = self.conv3x3_2s(inputs)\n",
    "        root2 = self.conv3x3(root2)\n",
    "        root2 = self.gnoise(root2)\n",
    "        root2 = self.act_relu(root2)\n",
    "        root2 = self.batchnorm(root2)\n",
    "        \n",
    "        root3 = self.conv5x5_2s(inputs)\n",
    "        root3 = self.conv1x1(root3)\n",
    "        root3 = self.gnoise(root3)\n",
    "        root3 = self.act_relu(root3)\n",
    "        root3 = self.batchnorm(root3)\n",
    "        \n",
    "        root4 = self.conv3x3_2s(inputs)\n",
    "        root4 = self.conv1x1(root4)\n",
    "        root4 = self.act_relu(root4)\n",
    "        root4 = self.batchnorm(root4)\n",
    "        \n",
    "        roots = keras.layers.Add()([root1, root2, root3, root4])\n",
    "        return roots"
   ]
  },
  {
   "cell_type": "code",
   "execution_count": 6,
   "id": "dd33d57d",
   "metadata": {
    "execution": {
     "iopub.execute_input": "2022-05-07T19:37:00.452870Z",
     "iopub.status.busy": "2022-05-07T19:37:00.452312Z",
     "iopub.status.idle": "2022-05-07T19:37:00.462680Z",
     "shell.execute_reply": "2022-05-07T19:37:00.462037Z"
    },
    "papermill": {
     "duration": 0.029977,
     "end_time": "2022-05-07T19:37:00.464266",
     "exception": false,
     "start_time": "2022-05-07T19:37:00.434289",
     "status": "completed"
    },
    "tags": []
   },
   "outputs": [],
   "source": [
    "class TrunkLayer(tf.keras.layers.Layer):\n",
    "    def __init__(self, filters, gaussian_noise_ratio, gaussian_dropout_ratio):\n",
    "        super().__init__()\n",
    "        self.max_pool = keras.layers.MaxPool2D(pool_size=(3, 3), strides = 2, padding='same')\n",
    "        self.conv3x3 = keras.layers.Conv2D(filters, 3, padding = 'same')\n",
    "        self.conv1x1 = keras.layers.Conv2D(filters, 1, padding = 'same')\n",
    "        \n",
    "        self.act_relu = keras.layers.Activation(tf.nn.relu)\n",
    "        self.batchnorm = keras.layers.BatchNormalization()\n",
    "        self.gnoise = keras.layers.GaussianNoise(gaussian_noise_ratio)\n",
    "        self.gdropout = tf.keras.layers.GaussianDropout(gaussian_dropout_ratio)\n",
    "        self.multiply = keras.layers.Multiply()\n",
    "\n",
    "    def call(self, inputs):\n",
    "        trunk = self.max_pool(inputs)\n",
    "        \n",
    "        trunk1 = self.conv3x3(trunk)\n",
    "        trunk1 = self.gdropout(trunk1)\n",
    "        trunk1 = self.gnoise(trunk1)\n",
    "        trunk1 = self.act_relu(trunk1)\n",
    "        trunk1 = self.batchnorm(trunk1)\n",
    "        \n",
    "        trunk2 = self.conv3x3(trunk)\n",
    "        trunk2 = self.conv1x1(trunk2)\n",
    "        trunk2 = self.gdropout(trunk2)\n",
    "        trunk2 = self.act_relu(trunk2)\n",
    "        trunk2 = self.batchnorm(trunk2)\n",
    "        \n",
    "        trunk3 = self.conv3x3(trunk)\n",
    "        trunk3 = self.conv3x3(trunk3)\n",
    "        trunk3 = self.gdropout(trunk3)\n",
    "        trunk3 = self.act_relu(trunk3)\n",
    "        trunk3 = self.batchnorm(trunk3)\n",
    "        \n",
    "        t_m1 = self.multiply([trunk1, trunk2])\n",
    "        t_m2 = self.multiply([trunk2, trunk3])\n",
    "        trunk = keras.layers.Add()([t_m1, t_m2])\n",
    "        return trunk"
   ]
  },
  {
   "cell_type": "code",
   "execution_count": 7,
   "id": "f75e5ddb",
   "metadata": {
    "execution": {
     "iopub.execute_input": "2022-05-07T19:37:00.501012Z",
     "iopub.status.busy": "2022-05-07T19:37:00.500810Z",
     "iopub.status.idle": "2022-05-07T19:37:00.507700Z",
     "shell.execute_reply": "2022-05-07T19:37:00.507044Z"
    },
    "papermill": {
     "duration": 0.026377,
     "end_time": "2022-05-07T19:37:00.509336",
     "exception": false,
     "start_time": "2022-05-07T19:37:00.482959",
     "status": "completed"
    },
    "tags": []
   },
   "outputs": [],
   "source": [
    "class FullyConnectedLayer(tf.keras.layers.Layer):\n",
    "    def __init__(self, units, gaussian_dropout_ratio):\n",
    "        super().__init__()\n",
    "        self.flatten = tf.keras.layers.Flatten()\n",
    "        self.dense = tf.keras.layers.Dense(units)\n",
    "        self.gaussian_dropout = tf.keras.layers.GaussianDropout(gaussian_dropout_ratio)\n",
    "        self.relu_leak = tf.keras.layers.LeakyReLU(alpha=0.2)\n",
    "        self.batchnorm = tf.keras.layers.BatchNormalization()\n",
    "\n",
    "    def call(self, inputs):\n",
    "        x = self.flatten(inputs)\n",
    "        x = self.dense(x)\n",
    "        x = self.gaussian_dropout(x)\n",
    "        x = self.relu_leak(x)\n",
    "        x = self.batchnorm(x)\n",
    "\n",
    "        return x"
   ]
  },
  {
   "cell_type": "code",
   "execution_count": 8,
   "id": "659306f0",
   "metadata": {
    "execution": {
     "iopub.execute_input": "2022-05-07T19:37:00.544730Z",
     "iopub.status.busy": "2022-05-07T19:37:00.544536Z",
     "iopub.status.idle": "2022-05-07T19:37:00.552451Z",
     "shell.execute_reply": "2022-05-07T19:37:00.551809Z"
    },
    "papermill": {
     "duration": 0.027429,
     "end_time": "2022-05-07T19:37:00.554043",
     "exception": false,
     "start_time": "2022-05-07T19:37:00.526614",
     "status": "completed"
    },
    "tags": []
   },
   "outputs": [],
   "source": [
    "class AlderNet(tf.keras.Model):\n",
    "    def __init__(self):\n",
    "        super().__init__()\n",
    "        self.root_1 = RootLayer(filters = 256, gaussian_noise_ratio = 0.02)\n",
    "        self.root_2 = RootLayer(filters = 256, gaussian_noise_ratio = 0.05)\n",
    "        self.root_3 = RootLayer(filters = 256, gaussian_noise_ratio = 0.02)\n",
    "        \n",
    "        self.trunk = TrunkLayer(filters = 256, gaussian_noise_ratio = 0.02, gaussian_dropout_ratio=0.05)\n",
    "        \n",
    "        self.fully_connected = FullyConnectedLayer(units=128, gaussian_dropout_ratio=0.05)\n",
    "        self.classification = tf.keras.layers.Dense(10, activation='softmax')\n",
    "\n",
    "    def call(self, inputs):\n",
    "        root_1 = self.root_1(inputs)\n",
    "        root_2 = self.root_2(inputs)\n",
    "        root_3 = self.root_3(inputs)\n",
    "        roots = keras.layers.Add()([root_1, root_2, root_3])\n",
    "\n",
    "        trunk = self.trunk(roots)\n",
    "        trunk = self.trunk(trunk)\n",
    "        trunk = self.trunk(trunk)\n",
    "        fully_connected = self.fully_connected(trunk)\n",
    "        classification = self.classification(fully_connected)\n",
    "        return classification"
   ]
  },
  {
   "cell_type": "code",
   "execution_count": 9,
   "id": "fdbfd924",
   "metadata": {
    "execution": {
     "iopub.execute_input": "2022-05-07T19:37:00.589447Z",
     "iopub.status.busy": "2022-05-07T19:37:00.589257Z",
     "iopub.status.idle": "2022-05-07T19:37:00.592636Z",
     "shell.execute_reply": "2022-05-07T19:37:00.592015Z"
    },
    "papermill": {
     "duration": 0.023269,
     "end_time": "2022-05-07T19:37:00.594328",
     "exception": false,
     "start_time": "2022-05-07T19:37:00.571059",
     "status": "completed"
    },
    "tags": []
   },
   "outputs": [],
   "source": [
    "tf.random.set_seed(100)"
   ]
  },
  {
   "cell_type": "code",
   "execution_count": 10,
   "id": "d6518db4",
   "metadata": {
    "execution": {
     "iopub.execute_input": "2022-05-07T19:37:00.629528Z",
     "iopub.status.busy": "2022-05-07T19:37:00.629335Z",
     "iopub.status.idle": "2022-05-07T19:48:40.508920Z",
     "shell.execute_reply": "2022-05-07T19:48:40.508210Z"
    },
    "papermill": {
     "duration": 699.899738,
     "end_time": "2022-05-07T19:48:40.511179",
     "exception": false,
     "start_time": "2022-05-07T19:37:00.611441",
     "status": "completed"
    },
    "tags": []
   },
   "outputs": [
    {
     "name": "stderr",
     "output_type": "stream",
     "text": [
      "2022-05-07 19:37:00.713218: I tensorflow/stream_executor/cuda/cuda_gpu_executor.cc:937] successful NUMA node read from SysFS had negative value (-1), but there must be at least one NUMA node, so returning NUMA node zero\n",
      "2022-05-07 19:37:00.810592: I tensorflow/stream_executor/cuda/cuda_gpu_executor.cc:937] successful NUMA node read from SysFS had negative value (-1), but there must be at least one NUMA node, so returning NUMA node zero\n",
      "2022-05-07 19:37:00.811345: I tensorflow/stream_executor/cuda/cuda_gpu_executor.cc:937] successful NUMA node read from SysFS had negative value (-1), but there must be at least one NUMA node, so returning NUMA node zero\n",
      "2022-05-07 19:37:00.812513: I tensorflow/core/platform/cpu_feature_guard.cc:142] This TensorFlow binary is optimized with oneAPI Deep Neural Network Library (oneDNN) to use the following CPU instructions in performance-critical operations:  AVX2 AVX512F FMA\n",
      "To enable them in other operations, rebuild TensorFlow with the appropriate compiler flags.\n",
      "2022-05-07 19:37:00.812805: I tensorflow/stream_executor/cuda/cuda_gpu_executor.cc:937] successful NUMA node read from SysFS had negative value (-1), but there must be at least one NUMA node, so returning NUMA node zero\n",
      "2022-05-07 19:37:00.813586: I tensorflow/stream_executor/cuda/cuda_gpu_executor.cc:937] successful NUMA node read from SysFS had negative value (-1), but there must be at least one NUMA node, so returning NUMA node zero\n",
      "2022-05-07 19:37:00.814244: I tensorflow/stream_executor/cuda/cuda_gpu_executor.cc:937] successful NUMA node read from SysFS had negative value (-1), but there must be at least one NUMA node, so returning NUMA node zero\n",
      "2022-05-07 19:37:02.681629: I tensorflow/stream_executor/cuda/cuda_gpu_executor.cc:937] successful NUMA node read from SysFS had negative value (-1), but there must be at least one NUMA node, so returning NUMA node zero\n",
      "2022-05-07 19:37:02.682966: I tensorflow/stream_executor/cuda/cuda_gpu_executor.cc:937] successful NUMA node read from SysFS had negative value (-1), but there must be at least one NUMA node, so returning NUMA node zero\n",
      "2022-05-07 19:37:02.684124: I tensorflow/stream_executor/cuda/cuda_gpu_executor.cc:937] successful NUMA node read from SysFS had negative value (-1), but there must be at least one NUMA node, so returning NUMA node zero\n",
      "2022-05-07 19:37:02.686073: I tensorflow/core/common_runtime/gpu/gpu_device.cc:1510] Created device /job:localhost/replica:0/task:0/device:GPU:0 with 15403 MB memory:  -> device: 0, name: Tesla P100-PCIE-16GB, pci bus id: 0000:00:04.0, compute capability: 6.0\n",
      "2022-05-07 19:37:03.927358: I tensorflow/stream_executor/cuda/cuda_dnn.cc:369] Loaded cuDNN version 8005\n",
      "2022-05-07 19:37:09.203662: I tensorflow/compiler/mlir/mlir_graph_optimization_pass.cc:185] None of the MLIR Optimization Passes are enabled (registered 2)\n"
     ]
    },
    {
     "name": "stdout",
     "output_type": "stream",
     "text": [
      "Epoch 1/40\n",
      "1080/1080 [==============================] - 51s 44ms/step - loss: 0.7136 - accuracy: 0.7583 - val_loss: 2.9153 - val_accuracy: 0.4788\n",
      "Epoch 2/40\n",
      "1080/1080 [==============================] - 48s 44ms/step - loss: 0.1428 - accuracy: 0.9567 - val_loss: 6.3110 - val_accuracy: 0.4808\n",
      "Epoch 3/40\n",
      "1080/1080 [==============================] - 48s 44ms/step - loss: 0.1048 - accuracy: 0.9676 - val_loss: 0.9871 - val_accuracy: 0.7080\n",
      "Epoch 4/40\n",
      "1080/1080 [==============================] - 47s 44ms/step - loss: 0.0906 - accuracy: 0.9732 - val_loss: 1.1346 - val_accuracy: 0.5340\n",
      "Epoch 5/40\n",
      "1080/1080 [==============================] - 48s 44ms/step - loss: 0.0817 - accuracy: 0.9756 - val_loss: 0.8149 - val_accuracy: 0.7335\n",
      "Epoch 6/40\n",
      "1080/1080 [==============================] - 47s 44ms/step - loss: 0.0745 - accuracy: 0.9776 - val_loss: 0.3492 - val_accuracy: 0.9150\n",
      "Epoch 7/40\n",
      "1080/1080 [==============================] - 47s 44ms/step - loss: 0.0655 - accuracy: 0.9803 - val_loss: 0.5508 - val_accuracy: 0.8558\n",
      "Epoch 8/40\n",
      "1080/1080 [==============================] - 48s 44ms/step - loss: 0.0638 - accuracy: 0.9806 - val_loss: 0.6492 - val_accuracy: 0.7918\n",
      "\n",
      "Epoch 00008: ReduceLROnPlateau reducing learning rate to 0.0005000000237487257.\n",
      "Epoch 9/40\n",
      "1080/1080 [==============================] - 47s 44ms/step - loss: 0.0441 - accuracy: 0.9866 - val_loss: 0.4972 - val_accuracy: 0.8422\n",
      "Epoch 10/40\n",
      "1080/1080 [==============================] - 48s 44ms/step - loss: 0.0416 - accuracy: 0.9872 - val_loss: 0.6837 - val_accuracy: 0.7927\n",
      "\n",
      "Epoch 00010: ReduceLROnPlateau reducing learning rate to 0.0002500000118743628.\n",
      "Epoch 11/40\n",
      "1080/1080 [==============================] - 47s 44ms/step - loss: 0.0325 - accuracy: 0.9902 - val_loss: 0.5590 - val_accuracy: 0.8487\n",
      "Epoch 12/40\n",
      "1080/1080 [==============================] - 48s 44ms/step - loss: 0.0286 - accuracy: 0.9915 - val_loss: 0.7090 - val_accuracy: 0.8545\n",
      "\n",
      "Epoch 00012: ReduceLROnPlateau reducing learning rate to 0.0001250000059371814.\n",
      "Epoch 13/40\n",
      "1080/1080 [==============================] - 48s 44ms/step - loss: 0.0259 - accuracy: 0.9923 - val_loss: 0.6171 - val_accuracy: 0.8575\n"
     ]
    }
   ],
   "source": [
    "BATCH_SIZE = 50\n",
    "MAX_EPOCHS = 40\n",
    "\n",
    "model = AlderNet()\n",
    "early_stopping = tf.keras.callbacks.EarlyStopping(monitor='val_accuracy', patience=7, restore_best_weights=True)\n",
    "learning_rate_scheduler = tf.keras.callbacks.ReduceLROnPlateau(\n",
    "            monitor='val_accuracy', \n",
    "            patience=2, \n",
    "            verbose=1, \n",
    "            factor=0.5, \n",
    "            min_lr=1e-10,\n",
    "        )\n",
    "model.compile(\n",
    "            optimizer=tf.keras.optimizers.Adam(learning_rate=1e-3),\n",
    "            loss='categorical_crossentropy',\n",
    "            metrics=['accuracy'],\n",
    "        )\n",
    "\n",
    "history = model.fit(datagen.flow(train_images, train_labels, batch_size=BATCH_SIZE), \n",
    "          steps_per_epoch=len(train_images) / BATCH_SIZE,\n",
    "          epochs=MAX_EPOCHS,\n",
    "          validation_data=(val_images, val_labels),\n",
    "          callbacks=[early_stopping, learning_rate_scheduler],\n",
    "        )"
   ]
  },
  {
   "cell_type": "code",
   "execution_count": 11,
   "id": "834589d5",
   "metadata": {
    "execution": {
     "iopub.execute_input": "2022-05-07T19:48:45.144769Z",
     "iopub.status.busy": "2022-05-07T19:48:45.144502Z",
     "iopub.status.idle": "2022-05-07T19:48:45.155495Z",
     "shell.execute_reply": "2022-05-07T19:48:45.154768Z"
    },
    "papermill": {
     "duration": 2.312756,
     "end_time": "2022-05-07T19:48:45.157169",
     "exception": false,
     "start_time": "2022-05-07T19:48:42.844413",
     "status": "completed"
    },
    "tags": []
   },
   "outputs": [
    {
     "name": "stdout",
     "output_type": "stream",
     "text": [
      "Model: \"alder_net\"\n",
      "_________________________________________________________________\n",
      "Layer (type)                 Output Shape              Param #   \n",
      "=================================================================\n",
      "root_layer (RootLayer)       multiple                  678912    \n",
      "_________________________________________________________________\n",
      "root_layer_1 (RootLayer)     multiple                  678912    \n",
      "_________________________________________________________________\n",
      "root_layer_2 (RootLayer)     multiple                  678912    \n",
      "_________________________________________________________________\n",
      "trunk_layer (TrunkLayer)     multiple                  656896    \n",
      "_________________________________________________________________\n",
      "fully_connected_layer (Fully multiple                  131712    \n",
      "_________________________________________________________________\n",
      "dense_1 (Dense)              multiple                  1290      \n",
      "=================================================================\n",
      "Total params: 2,826,634\n",
      "Trainable params: 2,824,330\n",
      "Non-trainable params: 2,304\n",
      "_________________________________________________________________\n"
     ]
    }
   ],
   "source": [
    "model.summary()"
   ]
  },
  {
   "cell_type": "code",
   "execution_count": 12,
   "id": "11747b6c",
   "metadata": {
    "execution": {
     "iopub.execute_input": "2022-05-07T19:48:49.785671Z",
     "iopub.status.busy": "2022-05-07T19:48:49.784960Z",
     "iopub.status.idle": "2022-05-07T19:49:14.749612Z",
     "shell.execute_reply": "2022-05-07T19:49:14.748953Z"
    },
    "papermill": {
     "duration": 27.312984,
     "end_time": "2022-05-07T19:49:14.751356",
     "exception": false,
     "start_time": "2022-05-07T19:48:47.438372",
     "status": "completed"
    },
    "tags": []
   },
   "outputs": [
    {
     "data": {
      "image/png": "[encoded data removed]",
      "text/plain": [
       "<Figure size 432x288 with 1 Axes>"
      ]
     },
     "metadata": {
      "needs_background": "light"
     },
     "output_type": "display_data"
    }
   ],
   "source": [
    "plt.plot(history.history['accuracy'])\n",
    "plt.plot(history.history['val_accuracy'])\n",
    "plt.title('model accuracy')\n",
    "plt.ylabel('accuracy')\n",
    "plt.xlabel('epoch')\n",
    "plt.legend(['train', 'valid'], loc='upper left')\n",
    "plt.show()"
   ]
  },
  {
   "cell_type": "code",
   "execution_count": 13,
   "id": "88c261f4",
   "metadata": {
    "execution": {
     "iopub.execute_input": "2022-05-07T19:49:19.302001Z",
     "iopub.status.busy": "2022-05-07T19:49:19.301749Z",
     "iopub.status.idle": "2022-05-07T19:49:19.478961Z",
     "shell.execute_reply": "2022-05-07T19:49:19.478313Z"
    },
    "papermill": {
     "duration": 2.458982,
     "end_time": "2022-05-07T19:49:19.480612",
     "exception": false,
     "start_time": "2022-05-07T19:49:17.021630",
     "status": "completed"
    },
    "tags": []
   },
   "outputs": [
    {
     "data": {
      "image/png": "[encoded data removed]",
      "text/plain": [
       "<Figure size 432x288 with 1 Axes>"
      ]
     },
     "metadata": {
      "needs_background": "light"
     },
     "output_type": "display_data"
    }
   ],
   "source": [
    "plt.plot(history.history['loss'])\n",
    "plt.plot(history.history['val_loss'])\n",
    "plt.title('model loss')\n",
    "plt.ylabel('loss')\n",
    "plt.xlabel('epoch')\n",
    "plt.legend(['train', 'test'], loc='upper left')\n",
    "plt.show()"
   ]
  },
  {
   "cell_type": "code",
   "execution_count": 14,
   "id": "bb018e5c",
   "metadata": {
    "execution": {
     "iopub.execute_input": "2022-05-07T19:49:24.358771Z",
     "iopub.status.busy": "2022-05-07T19:49:24.358504Z",
     "iopub.status.idle": "2022-05-07T19:49:27.318863Z",
     "shell.execute_reply": "2022-05-07T19:49:27.318142Z"
    },
    "papermill": {
     "duration": 5.507926,
     "end_time": "2022-05-07T19:49:27.320914",
     "exception": false,
     "start_time": "2022-05-07T19:49:21.812988",
     "status": "completed"
    },
    "tags": []
   },
   "outputs": [],
   "source": [
    "predictions = np.array(model.predict(test_images))"
   ]
  },
  {
   "cell_type": "code",
   "execution_count": 15,
   "id": "06124845",
   "metadata": {
    "execution": {
     "iopub.execute_input": "2022-05-07T19:49:31.942674Z",
     "iopub.status.busy": "2022-05-07T19:49:31.942395Z",
     "iopub.status.idle": "2022-05-07T19:49:31.969787Z",
     "shell.execute_reply": "2022-05-07T19:49:31.969126Z"
    },
    "papermill": {
     "duration": 2.339306,
     "end_time": "2022-05-07T19:49:31.971776",
     "exception": false,
     "start_time": "2022-05-07T19:49:29.632470",
     "status": "completed"
    },
    "tags": []
   },
   "outputs": [],
   "source": [
    "predicted_labels = np.array([np.argmax(row) for row in predictions])"
   ]
  },
  {
   "cell_type": "code",
   "execution_count": 16,
   "id": "69b09607",
   "metadata": {
    "execution": {
     "iopub.execute_input": "2022-05-07T19:49:36.943187Z",
     "iopub.status.busy": "2022-05-07T19:49:36.942844Z",
     "iopub.status.idle": "2022-05-07T19:49:36.960205Z",
     "shell.execute_reply": "2022-05-07T19:49:36.959540Z"
    },
    "papermill": {
     "duration": 2.466725,
     "end_time": "2022-05-07T19:49:36.962473",
     "exception": false,
     "start_time": "2022-05-07T19:49:34.495748",
     "status": "completed"
    },
    "tags": []
   },
   "outputs": [
    {
     "name": "stdout",
     "output_type": "stream",
     "text": [
      "Accuracy: 92.08%\n"
     ]
    }
   ],
   "source": [
    "accuracy = tf.keras.metrics.Accuracy()\n",
    "accuracy.update_state(test_labels, predicted_labels)\n",
    "accuracy = accuracy.result().numpy()\n",
    "print(f\"Accuracy: {accuracy*100:.2f}%\")"
   ]
  },
  {
   "cell_type": "code",
   "execution_count": 17,
   "id": "b7e32177",
   "metadata": {
    "execution": {
     "iopub.execute_input": "2022-05-07T19:49:42.018718Z",
     "iopub.status.busy": "2022-05-07T19:49:42.018445Z",
     "iopub.status.idle": "2022-05-07T19:49:48.598057Z",
     "shell.execute_reply": "2022-05-07T19:49:48.597272Z"
    },
    "papermill": {
     "duration": 8.910102,
     "end_time": "2022-05-07T19:49:48.600595",
     "exception": false,
     "start_time": "2022-05-07T19:49:39.690493",
     "status": "completed"
    },
    "tags": []
   },
   "outputs": [
    {
     "name": "stderr",
     "output_type": "stream",
     "text": [
      "2022-05-07 19:49:45.230320: W tensorflow/python/util/util.cc:348] Sets are not currently considered sequences, but this may change in the future, so consider avoiding using them.\n",
      "/opt/conda/lib/python3.7/site-packages/keras/utils/generic_utils.py:497: CustomMaskWarning: Custom mask layers require a config and must override get_config. When loading, the custom mask layer must be passed to the custom_objects argument.\n",
      "  category=CustomMaskWarning)\n"
     ]
    }
   ],
   "source": [
    "model.save(f'saved_model/')"
   ]
  },
  {
   "cell_type": "code",
   "execution_count": null,
   "id": "a607a2ae",
   "metadata": {
    "papermill": {
     "duration": 2.273156,
     "end_time": "2022-05-07T19:49:53.146680",
     "exception": false,
     "start_time": "2022-05-07T19:49:50.873524",
     "status": "completed"
    },
    "tags": []
   },
   "outputs": [],
   "source": []
  }
 ],
 "metadata": {
  "kernelspec": {
   "display_name": "Python 3",
   "language": "python",
   "name": "python3"
  },
  "language_info": {
   "codemirror_mode": {
    "name": "ipython",
    "version": 3
   },
   "file_extension": ".py",
   "mimetype": "text/x-python",
   "name": "python",
   "nbconvert_exporter": "python",
   "pygments_lexer": "ipython3",
   "version": "3.7.12"
  },
  "papermill": {
   "default_parameters": {},
   "duration": 793.489411,
   "end_time": "2022-05-07T19:49:58.646059",
   "environment_variables": {},
   "exception": null,
   "input_path": "__notebook__.ipynb",
   "output_path": "__notebook__.ipynb",
   "parameters": {},
   "start_time": "2022-05-07T19:36:45.156648",
   "version": "2.3.4"
  }
 },
 "nbformat": 4,
 "nbformat_minor": 5
}
